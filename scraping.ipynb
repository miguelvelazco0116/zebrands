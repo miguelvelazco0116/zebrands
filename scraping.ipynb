{
 "cells": [
  {
   "cell_type": "markdown",
   "id": "0bb4657e",
   "metadata": {},
   "source": [
    "- packages"
   ]
  },
  {
   "cell_type": "code",
   "execution_count": 1,
   "id": "348f8cf1",
   "metadata": {},
   "outputs": [],
   "source": [
    "import pandas as pd\n",
    "from bs4 import BeautifulSoup\n",
    "import requests, schedule, time, psycopg2\n",
    "from sqlalchemy import create_engine"
   ]
  },
  {
   "cell_type": "markdown",
   "id": "b69ca609",
   "metadata": {},
   "source": [
    "- fucntions"
   ]
  },
  {
   "cell_type": "code",
   "execution_count": 2,
   "id": "a8e040e9",
   "metadata": {},
   "outputs": [],
   "source": [
    "def task():\n",
    "    df = pd.DataFrame()\n",
    "    urls = [\"https://www.mercadolibre.com.mx/colchon-1-plaza-de-espuma-luuna-original-100cm-x-190cm-x-24cm/p/MLM15569488\",\n",
    "            'https://www.mercadolibre.com.mx/colchon-luuna-memory-foam-matrimonial-hecho-en-mexico/p/MLM15569489?product_trigger_id=MLM15569488&quantity=1',\n",
    "            'https://www.mercadolibre.com.mx/colchon-luuna-memory-foam-queen-size-hecho-en-mexico/p/MLM12242066?product_trigger_id=MLM15569489&quantity=1',\n",
    "            'https://www.mercadolibre.com.mx/colchon-king-de-espuma-luuna-original-190cm-x-200cm-x-24cm/p/MLM12242062?product_trigger_id=MLM15569488&quantity=1']\n",
    "\n",
    "    for url in urls:\n",
    "        prices = []\n",
    "        sotcks = []\n",
    "        response = requests.get(url)\n",
    "        content = response.content\n",
    "\n",
    "        soup = BeautifulSoup(content, \"html.parser\")\n",
    "\n",
    "        price_elements = soup.find_all(\"span\", class_=\"andes-money-amount__fraction\")\n",
    "        prices = [element.text for element in price_elements]    \n",
    "\n",
    "        stock_elements = soup.find_all(\"p\", class_=\"ui-pdp-color--BLACK ui-pdp-size--SMALL ui-pdp-family--SEMIBOLD ui-pdp-stock-information__title\")\n",
    "        stocks = [element.text for element in stock_elements]\n",
    "        \n",
    "        if len(prices) > 2:\n",
    "            cu_price = int(str(prices[1]).replace(',', ''))\n",
    "        elif len(prices) == 1:\n",
    "            cu_price = 0\n",
    "        else:\n",
    "            None\n",
    "        \n",
    "        if len(stocks) > 0:\n",
    "            cu_stock = str(stocks[0]).lower()\n",
    "        else:\n",
    "            cu_stock = 'stock no disponible'\n",
    "        \n",
    "        df_buffer = pd.DataFrame(data = {'price' : [cu_price], 'stock' : [cu_stock]})\n",
    "        df = pd.concat([df, df_buffer], ignore_index = True)\n",
    "        \n",
    "        # credentials for the database\n",
    "        usr = \"****\"\n",
    "        pwd = \"****\"\n",
    "        db =  \"****\"\n",
    "        port = \"****\"\n",
    "\n",
    "        # create the engine for the postgresql object\n",
    "        engine = create_engine(\"postgresql://\" + usr + \":\" + pwd + \"@localhost:5432/\" + db)\n",
    "\n",
    "        df.to_sql('zebrands', con = engine, schema = 'public', if_exists='append', index = False)"
   ]
  },
  {
   "cell_type": "markdown",
   "id": "341505d8",
   "metadata": {},
   "source": [
    "- main program"
   ]
  },
  {
   "cell_type": "code",
   "execution_count": 3,
   "id": "b975c475",
   "metadata": {},
   "outputs": [
    {
     "ename": "KeyboardInterrupt",
     "evalue": "",
     "output_type": "error",
     "traceback": [
      "\u001b[1;31m---------------------------------------------------------------------------\u001b[0m",
      "\u001b[1;31mKeyboardInterrupt\u001b[0m                         Traceback (most recent call last)",
      "\u001b[1;32m~\\AppData\\Local\\Temp/ipykernel_11788/2756487235.py\u001b[0m in \u001b[0;36m<module>\u001b[1;34m\u001b[0m\n\u001b[0;32m      9\u001b[0m \u001b[1;32mwhile\u001b[0m \u001b[1;32mTrue\u001b[0m\u001b[1;33m:\u001b[0m\u001b[1;33m\u001b[0m\u001b[1;33m\u001b[0m\u001b[0m\n\u001b[0;32m     10\u001b[0m     \u001b[0mschedule\u001b[0m\u001b[1;33m.\u001b[0m\u001b[0mrun_pending\u001b[0m\u001b[1;33m(\u001b[0m\u001b[1;33m)\u001b[0m\u001b[1;33m\u001b[0m\u001b[1;33m\u001b[0m\u001b[0m\n\u001b[1;32m---> 11\u001b[1;33m     \u001b[0mtime\u001b[0m\u001b[1;33m.\u001b[0m\u001b[0msleep\u001b[0m\u001b[1;33m(\u001b[0m\u001b[1;36m1\u001b[0m\u001b[1;33m)\u001b[0m\u001b[1;33m\u001b[0m\u001b[1;33m\u001b[0m\u001b[0m\n\u001b[0m",
      "\u001b[1;31mKeyboardInterrupt\u001b[0m: "
     ]
    }
   ],
   "source": [
    "def mi_script():\n",
    "    task()\n",
    "\n",
    "schedule.every().day.at(\"08:00\").do(mi_script)\n",
    "\n",
    "while True:\n",
    "    schedule.run_pending()\n",
    "    time.sleep(1)"
   ]
  },
  {
   "cell_type": "code",
   "execution_count": null,
   "id": "caed8b5c",
   "metadata": {},
   "outputs": [],
   "source": []
  }
 ],
 "metadata": {
  "kernelspec": {
   "display_name": "Python 3 (ipykernel)",
   "language": "python",
   "name": "python3"
  },
  "language_info": {
   "codemirror_mode": {
    "name": "ipython",
    "version": 3
   },
   "file_extension": ".py",
   "mimetype": "text/x-python",
   "name": "python",
   "nbconvert_exporter": "python",
   "pygments_lexer": "ipython3",
   "version": "3.9.6"
  }
 },
 "nbformat": 4,
 "nbformat_minor": 5
}
