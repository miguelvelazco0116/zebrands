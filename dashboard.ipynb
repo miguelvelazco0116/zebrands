{
 "cells": [
  {
   "cell_type": "code",
   "execution_count": 1,
   "id": "654d49d5",
   "metadata": {},
   "outputs": [],
   "source": [
    "import altair as alt\n",
    "import datapane as dp\n",
    "import sys, yaml, psycopg2, os\n",
    "import pandas as pd\n",
    "import numpy as np\n",
    "import mysql.connector\n",
    "from sqlalchemy import create_engine\n",
    "import plotly.express as px"
   ]
  },
  {
   "cell_type": "code",
   "execution_count": 2,
   "id": "e05524d7",
   "metadata": {},
   "outputs": [
    {
     "name": "stdout",
     "output_type": "stream",
     "text": [
      "\u001b[32mConnected successfully to https://cloud.datapane.com as miguel.angel.velazco.mav@gmail.com\u001b[0m\n"
     ]
    },
    {
     "data": {
      "text/plain": [
       "'miguel.angel.velazco.mav@gmail.com'"
      ]
     },
     "execution_count": 2,
     "metadata": {},
     "output_type": "execute_result"
    }
   ],
   "source": [
    "dp.login(token=\"10867dc863351170ba6ebe5b6eb4feff13655d69\")"
   ]
  },
  {
   "cell_type": "code",
   "execution_count": 3,
   "id": "5b52fb5e",
   "metadata": {},
   "outputs": [],
   "source": [
    "def read_yaml_file(yaml_file):\n",
    "    \"\"\" load yaml cofigurations \"\"\"\n",
    "\n",
    "    config = None\n",
    "    try:\n",
    "        with open(yaml_file, 'r') as f:\n",
    "            config = yaml.safe_load(f)\n",
    "    except:\n",
    "        raise FileNotFoundError('Couldnt load the file')\n",
    "\n",
    "    return config\n",
    "\n",
    "\n",
    "def get_db_conn_mysql(creds_file):\n",
    "    \"\"\" Get an authenticated psycopg db connection, given a credentials file\"\"\"\n",
    "    creds = read_yaml_file(creds_file)['db']\n",
    "\n",
    "    connection = mysql.connector.connect(\n",
    "        user=creds['user'],\n",
    "        password=creds['pass'],\n",
    "        host=creds['host'],\n",
    "        port=creds['port'],\n",
    "        database=creds['db']\n",
    "    )\n",
    "\n",
    "    return connection"
   ]
  },
  {
   "cell_type": "code",
   "execution_count": 4,
   "id": "df2a832e",
   "metadata": {},
   "outputs": [],
   "source": [
    "db_conn_mysql = get_db_conn_mysql(\"key_mysql.yaml\")"
   ]
  },
  {
   "cell_type": "code",
   "execution_count": 5,
   "id": "b31489de",
   "metadata": {},
   "outputs": [],
   "source": [
    "q = \"\"\"\n",
    "    select \n",
    "        * \n",
    "    from \n",
    "        bp.cre_prices\n",
    "    where \n",
    "        place_id in (11702)\n",
    "    order by \n",
    "        update_data_date desc;\n",
    "\"\"\""
   ]
  },
  {
   "cell_type": "code",
   "execution_count": 6,
   "id": "8f492957",
   "metadata": {},
   "outputs": [
    {
     "name": "stderr",
     "output_type": "stream",
     "text": [
      "C:\\Users\\migue\\AppData\\Local\\Temp/ipykernel_16024/94881800.py:1: UserWarning: pandas only supports SQLAlchemy connectable (engine/connection) or database string URI or sqlite3 DBAPI2 connection. Other DBAPI2 objects are not tested. Please consider using SQLAlchemy.\n",
      "  df = pd.read_sql(q, db_conn_mysql)\n"
     ]
    }
   ],
   "source": [
    "df = pd.read_sql(q, db_conn_mysql)"
   ]
  },
  {
   "cell_type": "code",
   "execution_count": 7,
   "id": "d433a05c",
   "metadata": {},
   "outputs": [
    {
     "data": {
      "text/plain": [
       "Index(['index_', 'place_id', 'regular', 'update_date_regular', 'premium',\n",
       "       'update_date_premium', 'diesel', 'update_date_diesel',\n",
       "       'update_data_date'],\n",
       "      dtype='object')"
      ]
     },
     "execution_count": 7,
     "metadata": {},
     "output_type": "execute_result"
    }
   ],
   "source": [
    "df.columns"
   ]
  },
  {
   "cell_type": "code",
   "execution_count": 8,
   "id": "e05e8130",
   "metadata": {},
   "outputs": [],
   "source": [
    "columns2drop = ['index_', 'place_id', 'update_date_regular', 'update_date_premium', 'update_date_diesel']\n",
    "df.drop(columns = columns2drop, inplace = True)"
   ]
  },
  {
   "cell_type": "code",
   "execution_count": 9,
   "id": "225552f3",
   "metadata": {},
   "outputs": [],
   "source": [
    "df['king'] = df['premium'] + 7"
   ]
  },
  {
   "cell_type": "code",
   "execution_count": 10,
   "id": "2054127a",
   "metadata": {},
   "outputs": [],
   "source": [
    "df.rename(columns = {'regular' : 'individual', 'premium' : 'matromonial', 'diesel' : 'queen'}, inplace = True)"
   ]
  },
  {
   "cell_type": "code",
   "execution_count": 11,
   "id": "3d69f84e",
   "metadata": {},
   "outputs": [
    {
     "name": "stderr",
     "output_type": "stream",
     "text": [
      "C:\\Users\\migue\\AppData\\Local\\Temp/ipykernel_16024/4082525127.py:6: SettingWithCopyWarning: \n",
      "A value is trying to be set on a copy of a slice from a DataFrame.\n",
      "Try using .loc[row_indexer,col_indexer] = value instead\n",
      "\n",
      "See the caveats in the documentation: https://pandas.pydata.org/pandas-docs/stable/user_guide/indexing.html#returning-a-view-versus-a-copy\n",
      "  df_buffer['size'] = size\n",
      "C:\\Users\\migue\\AppData\\Local\\Temp/ipykernel_16024/4082525127.py:7: SettingWithCopyWarning: \n",
      "A value is trying to be set on a copy of a slice from a DataFrame\n",
      "\n",
      "See the caveats in the documentation: https://pandas.pydata.org/pandas-docs/stable/user_guide/indexing.html#returning-a-view-versus-a-copy\n",
      "  df_buffer.rename(columns = {size : 'price'}, inplace = True)\n",
      "C:\\Users\\migue\\AppData\\Local\\Temp/ipykernel_16024/4082525127.py:6: SettingWithCopyWarning: \n",
      "A value is trying to be set on a copy of a slice from a DataFrame.\n",
      "Try using .loc[row_indexer,col_indexer] = value instead\n",
      "\n",
      "See the caveats in the documentation: https://pandas.pydata.org/pandas-docs/stable/user_guide/indexing.html#returning-a-view-versus-a-copy\n",
      "  df_buffer['size'] = size\n",
      "C:\\Users\\migue\\AppData\\Local\\Temp/ipykernel_16024/4082525127.py:7: SettingWithCopyWarning: \n",
      "A value is trying to be set on a copy of a slice from a DataFrame\n",
      "\n",
      "See the caveats in the documentation: https://pandas.pydata.org/pandas-docs/stable/user_guide/indexing.html#returning-a-view-versus-a-copy\n",
      "  df_buffer.rename(columns = {size : 'price'}, inplace = True)\n",
      "C:\\Users\\migue\\AppData\\Local\\Temp/ipykernel_16024/4082525127.py:6: SettingWithCopyWarning: \n",
      "A value is trying to be set on a copy of a slice from a DataFrame.\n",
      "Try using .loc[row_indexer,col_indexer] = value instead\n",
      "\n",
      "See the caveats in the documentation: https://pandas.pydata.org/pandas-docs/stable/user_guide/indexing.html#returning-a-view-versus-a-copy\n",
      "  df_buffer['size'] = size\n",
      "C:\\Users\\migue\\AppData\\Local\\Temp/ipykernel_16024/4082525127.py:7: SettingWithCopyWarning: \n",
      "A value is trying to be set on a copy of a slice from a DataFrame\n",
      "\n",
      "See the caveats in the documentation: https://pandas.pydata.org/pandas-docs/stable/user_guide/indexing.html#returning-a-view-versus-a-copy\n",
      "  df_buffer.rename(columns = {size : 'price'}, inplace = True)\n",
      "C:\\Users\\migue\\AppData\\Local\\Temp/ipykernel_16024/4082525127.py:6: SettingWithCopyWarning: \n",
      "A value is trying to be set on a copy of a slice from a DataFrame.\n",
      "Try using .loc[row_indexer,col_indexer] = value instead\n",
      "\n",
      "See the caveats in the documentation: https://pandas.pydata.org/pandas-docs/stable/user_guide/indexing.html#returning-a-view-versus-a-copy\n",
      "  df_buffer['size'] = size\n",
      "C:\\Users\\migue\\AppData\\Local\\Temp/ipykernel_16024/4082525127.py:7: SettingWithCopyWarning: \n",
      "A value is trying to be set on a copy of a slice from a DataFrame\n",
      "\n",
      "See the caveats in the documentation: https://pandas.pydata.org/pandas-docs/stable/user_guide/indexing.html#returning-a-view-versus-a-copy\n",
      "  df_buffer.rename(columns = {size : 'price'}, inplace = True)\n"
     ]
    }
   ],
   "source": [
    "sizes = ['individual', 'matromonial', 'queen', 'king']\n",
    "df_f = pd.DataFrame()\n",
    "\n",
    "for size in sizes:\n",
    "    df_buffer = df[[size, 'update_data_date']]\n",
    "    df_buffer['size'] = size\n",
    "    df_buffer.rename(columns = {size : 'price'}, inplace = True)    \n",
    "    df_f = pd.concat([df_f, df_buffer], ignore_index = True)"
   ]
  },
  {
   "cell_type": "code",
   "execution_count": 15,
   "id": "bd96f049",
   "metadata": {
    "scrolled": false
   },
   "outputs": [
    {
     "data": {
      "text/markdown": [
       "Uploading report and associated data - *please wait...*"
      ],
      "text/plain": [
       "<IPython.core.display.Markdown object>"
      ]
     },
     "metadata": {},
     "output_type": "display_data"
    },
    {
     "data": {
      "text/markdown": [
       "Report successfully uploaded - view and share at <a href='https://cloud.datapane.com/reports/E7ooVo7/zebrands-example-report/' target='_blank'>here</a>."
      ],
      "text/plain": [
       "<IPython.core.display.Markdown object>"
      ]
     },
     "metadata": {},
     "output_type": "display_data"
    },
    {
     "data": {
      "text/plain": [
       "Uploaded CloudReport - view at https://cloud.datapane.com/reports/E7ooVo7/zebrands-example-report/"
      ]
     },
     "execution_count": 15,
     "metadata": {},
     "output_type": "execute_result"
    }
   ],
   "source": [
    "plot1 = (\n",
    "    px.line(df_f, x='update_data_date', y='price', color='size', labels = {'update_data_date' : 'date'})\n",
    ")\n",
    "\n",
    "dp.upload_report(\n",
    "    [\n",
    "        dp.Text('The next one is an example dashboard for prices (the data is an example from another business)'),\n",
    "        dp.Plot(plot1),\n",
    "        dp.DataTable(df_f)\n",
    "    ],\n",
    "    name=\"Zebrands example report\"\n",
    ")"
   ]
  }
 ],
 "metadata": {
  "kernelspec": {
   "display_name": "Python 3 (ipykernel)",
   "language": "python",
   "name": "python3"
  },
  "language_info": {
   "codemirror_mode": {
    "name": "ipython",
    "version": 3
   },
   "file_extension": ".py",
   "mimetype": "text/x-python",
   "name": "python",
   "nbconvert_exporter": "python",
   "pygments_lexer": "ipython3",
   "version": "3.9.6"
  }
 },
 "nbformat": 4,
 "nbformat_minor": 5
}
